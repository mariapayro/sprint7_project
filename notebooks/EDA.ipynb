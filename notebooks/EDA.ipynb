{
 "cells": [
  {
   "cell_type": "code",
   "execution_count": null,
   "id": "afb1d93d-6fd9-46ec-ac6a-84254c8b1e1a",
   "metadata": {},
   "outputs": [],
   "source": [
    "# Importar librerías\n",
    "\n",
    "import pandas as pd\n",
    "import plotly.express as px"
   ]
  },
  {
   "cell_type": "code",
   "execution_count": null,
   "id": "80110795-b056-4fb1-bff9-577e816b489c",
   "metadata": {},
   "outputs": [],
   "source": [
    "# Cargar los datos\n",
    "\n",
    "car_data = pd.read_csv('/Users/MPG/Documents/BOOTCAMP/Sprint7/sprint7_project/vehicles_us.csv')"
   ]
  },
  {
   "cell_type": "code",
   "execution_count": null,
   "id": "164d56e9-a0ff-41f3-81ae-718ddb1f5c58",
   "metadata": {},
   "outputs": [],
   "source": [
    "# Crear un histograma\n",
    "\n",
    "fig = px.histogram(car_data, x=\"odometer\", color=\"transmission\",\n",
    "                  title=\"Conteo del kilometraje por tipo de transmisión de los vehículos\") \n",
    "fig.show()"
   ]
  },
  {
   "cell_type": "code",
   "execution_count": null,
   "id": "e02ea552-0233-4829-ab64-f9dad9b6c19c",
   "metadata": {},
   "outputs": [],
   "source": [
    "# Crear un gráfico de dispersión\n",
    "\n",
    "fig = px.scatter(car_data, x=\"odometer\", y=\"price\", color=\"model\",\n",
    "                title=\"Costo de los autos en relación al modelo y su kilometraje\")\n",
    "fig.show()"
   ]
  },
  {
   "cell_type": "code",
   "execution_count": null,
   "id": "fba9dd44-616b-4ac4-9cbd-645ff576195a",
   "metadata": {},
   "outputs": [],
   "source": [
    "# Crear diagrama de caja\n",
    "\n",
    "fig = px.box(car_data, x=\"type\", y=\"price\", color=\"type\",\n",
    "             title=\"Distribución de precios por tipo de vehículo\")\n",
    "fig.show()"
   ]
  },
  {
   "cell_type": "code",
   "execution_count": null,
   "id": "1f0eeac3-85cd-4504-ba8a-5b921f5d38db",
   "metadata": {},
   "outputs": [],
   "source": [
    "# Crear otro diagrama de dispersión\n",
    "\n",
    "fig = px.scatter(car_data, x=\"model_year\", y=\"price\", color=\"condition\", \n",
    "                 title=\"Relación entre el año del modelo y la condición del auto con su precio de venta\",\n",
    "                 hover_data=[\"model\"])\n",
    "fig.show()"
   ]
  }
 ],
 "metadata": {
  "kernelspec": {
   "display_name": "Python 3 (ipykernel)",
   "language": "python",
   "name": "python3"
  },
  "language_info": {
   "codemirror_mode": {
    "name": "ipython",
    "version": 3
   },
   "file_extension": ".py",
   "mimetype": "text/x-python",
   "name": "python",
   "nbconvert_exporter": "python",
   "pygments_lexer": "ipython3",
   "version": "3.11.7"
  }
 },
 "nbformat": 4,
 "nbformat_minor": 5
}
